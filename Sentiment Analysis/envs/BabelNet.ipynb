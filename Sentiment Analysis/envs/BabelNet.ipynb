{
 "cells": [
  {
   "cell_type": "markdown",
   "metadata": {},
   "source": [
    "## Let's get down to bussiness"
   ]
  },
  {
   "cell_type": "markdown",
   "metadata": {},
   "source": [
    "### Setup basic properties"
   ]
  },
  {
   "cell_type": "code",
   "execution_count": 19,
   "metadata": {
    "collapsed": true
   },
   "outputs": [],
   "source": [
    "lang = 'EN'\n",
    "#key = 'find-your-own-key'\n",
    "key = 'ea01f649-3366-4b3c-b9d8-09a37fb0b2b1'"
   ]
  },
  {
   "cell_type": "code",
   "execution_count": 28,
   "metadata": {},
   "outputs": [
    {
     "name": "stdout",
     "output_type": "stream",
     "text": [
      " Volume in drive C is Windows\n",
      " Volume Serial Number is 92FD-5B19\n",
      "\n",
      " Directory of C:\\Users\\hp\\Anaconda3\\envs\\minor\\project1\\Lib\\site-packages\n",
      "\n",
      "08-12-2018  21:04    <DIR>          .\n",
      "08-12-2018  21:04    <DIR>          ..\n",
      "08-12-2018  12:30    <DIR>          .idea\n",
      "08-12-2018  14:56    <DIR>          .ipynb_checkpoints\n",
      "08-12-2018  17:39    <DIR>          babelnet\n",
      "08-12-2018  18:04            10,869 BabelNet.ipynb\n",
      "08-12-2018  12:12    <DIR>          boto\n",
      "08-12-2018  12:12    <DIR>          boto-2.49.0.dist-info\n",
      "08-12-2018  12:12    <DIR>          boto3\n",
      "08-12-2018  12:12    <DIR>          boto3-1.9.62.dist-info\n",
      "08-12-2018  12:12    <DIR>          botocore\n",
      "08-12-2018  12:12    <DIR>          botocore-1.12.62.dist-info\n",
      "08-12-2018  20:14             2,716 build_emotion_vectors.py\n",
      "08-12-2018  20:14             2,989 build_emotion_vectors.pyc\n",
      "04-04-2016  13:03             1,823 build_sense_trees.py\n",
      "07-12-2018  21:02             2,389 build_sense_trees.pyc\n",
      "08-12-2018  12:11            18,340 bz2file.py\n",
      "08-12-2018  12:12            16,577 bz2file.pyc\n",
      "08-12-2018  12:12    <DIR>          bz2file-0.98.dist-info\n",
      "08-12-2018  12:12    <DIR>          certifi\n",
      "08-12-2018  12:12    <DIR>          certifi-2018.11.29.dist-info\n",
      "08-12-2018  12:12    <DIR>          chardet\n",
      "08-12-2018  12:12    <DIR>          chardet-3.0.4.dist-info\n",
      "08-12-2018  12:12    <DIR>          concurrent\n",
      "08-12-2018  12:12    <DIR>          dateutil\n",
      "04-04-2016  13:03               476 display_sense_tree.py\n",
      "08-12-2018  12:07               876 display_sense_tree.pyc\n",
      "08-12-2018  12:12    <DIR>          docutils\n",
      "08-12-2018  12:12    <DIR>          docutils-0.14.dist-info\n",
      "07-12-2018  00:45               126 easy_install.py\n",
      "07-12-2018  00:45               343 easy_install.pyc\n",
      "08-12-2018  20:14            19,646 emotion_vectors.ipynb\n",
      "08-12-2018  12:12    <DIR>          futures-3.2.0.dist-info\n",
      "08-12-2018  12:13    <DIR>          gensim\n",
      "08-12-2018  12:13    <DIR>          gensim-3.6.0.dist-info\n",
      "12-12-2013  05:42     3,644,258,522 GoogleNews-vectors-negative300.bin\n",
      "08-12-2018  12:12    <DIR>          idna\n",
      "08-12-2018  12:12    <DIR>          idna-2.7.dist-info\n",
      "08-12-2018  12:12    <DIR>          jmespath\n",
      "08-12-2018  12:12    <DIR>          jmespath-0.9.3.dist-info\n",
      "08-12-2018  12:09    <DIR>          nltk\n",
      "08-12-2018  12:09    <DIR>          nltk-3.4.dist-info\n",
      "07-12-2018  21:06    <DIR>          numpy\n",
      "07-12-2018  21:07    <DIR>          numpy-1.15.4.dist-info\n",
      "07-12-2018  00:45    <DIR>          pip\n",
      "07-12-2018  00:45    <DIR>          pip-18.1.dist-info\n",
      "07-12-2018  00:45    <DIR>          pkg_resources\n",
      "08-12-2018  12:12    <DIR>          python_dateutil-2.7.5.dist-info\n",
      "08-12-2018  12:12    <DIR>          requests\n",
      "08-12-2018  12:12    <DIR>          requests-2.20.1.dist-info\n",
      "08-12-2018  12:12    <DIR>          s3transfer\n",
      "08-12-2018  12:12    <DIR>          s3transfer-0.1.13.dist-info\n",
      "08-12-2018  12:18    <DIR>          scikit_learn-0.20.1.dist-info\n",
      "08-12-2018  12:13    <DIR>          scipy\n",
      "08-12-2018  12:13    <DIR>          scipy-1.1.0.dist-info\n",
      "07-12-2018  00:45    <DIR>          setuptools\n",
      "07-12-2018  00:45    <DIR>          setuptools-40.6.2.dist-info\n",
      "08-12-2018  12:08             8,292 singledispatch.py\n",
      "08-12-2018  12:08             8,415 singledispatch.pyc\n",
      "08-12-2018  12:08             5,228 singledispatch_helpers.py\n",
      "08-12-2018  12:08             9,386 singledispatch_helpers.pyc\n",
      "08-12-2018  12:08    <DIR>          singledispatch-3.4.0.3.dist-info\n",
      "08-12-2018  12:08            30,888 six.py\n",
      "08-12-2018  12:08            32,468 six.pyc\n",
      "08-12-2018  12:08    <DIR>          six-1.11.0.dist-info\n",
      "08-12-2018  12:18    <DIR>          sklearn\n",
      "08-12-2018  12:18    <DIR>          sklearn-0.0.dist-info\n",
      "08-12-2018  12:12    <DIR>          smart_open\n",
      "08-12-2018  12:12    <DIR>          smart_open-1.7.1.dist-info\n",
      "07-12-2018  00:44    <DIR>          tcl\n",
      "07-12-2018  01:09    <DIR>          tests\n",
      "08-12-2018  12:12    <DIR>          urllib3\n",
      "08-12-2018  12:12    <DIR>          urllib3-1.24.1.dist-info\n",
      "07-12-2018  00:45    <DIR>          wheel\n",
      "07-12-2018  00:45    <DIR>          wheel-0.32.3.dist-info\n",
      "07-12-2018  01:09    <DIR>          wordvectors\n",
      "              19 File(s)  3,644,430,369 bytes\n",
      "              57 Dir(s)  193,711,226,880 bytes free\n"
     ]
    }
   ],
   "source": [
    "ls\n"
   ]
  },
  {
   "cell_type": "markdown",
   "metadata": {},
   "source": [
    "### We will find tree for the following emotions"
   ]
  },
  {
   "cell_type": "code",
   "execution_count": 21,
   "metadata": {
    "collapsed": true
   },
   "outputs": [],
   "source": [
    "from babelnet import utils\n",
    "from babelnet.structures import Sense, Tree\n",
    "from build_sense_trees import buildSenseTree, save, load"
   ]
  },
  {
   "cell_type": "code",
   "execution_count": 22,
   "metadata": {
    "collapsed": true
   },
   "outputs": [],
   "source": [
    "emotions = ['love', 'happiness', 'surprise', 'emotionless', 'sad', 'disgust', 'anger', 'fear']"
   ]
  },
  {
   "cell_type": "code",
   "execution_count": 23,
   "metadata": {},
   "outputs": [],
   "source": [
    "#MODEL_PATH = 'C:/Users/hp/Anaconda3/envs/minor/project1/Lib/site-packages/babelnet/'\n",
    "#print(MODEL_PATH + 'en' + '.pkl')\n",
    "import pickle"
   ]
  },
  {
   "cell_type": "code",
   "execution_count": 24,
   "metadata": {},
   "outputs": [
    {
     "name": "stdout",
     "output_type": "stream",
     "text": [
      "Getting synsetIds for love\n",
      "Building sense trees...\n",
      "Building english tree...\n",
      "Saving english tree\n",
      "Done!\n",
      "Getting synsetIds for happiness\n",
      "Building sense trees...\n",
      "Building english tree...\n",
      "Saving english tree\n",
      "Done!\n",
      "Getting synsetIds for surprise\n",
      "Building sense trees...\n",
      "Building english tree...\n",
      "Saving english tree\n",
      "Done!\n",
      "Getting synsetIds for emotionless\n",
      "Building sense trees...\n",
      "Building english tree...\n",
      "Saving english tree\n",
      "Done!\n",
      "Getting synsetIds for sad\n",
      "Building sense trees...\n",
      "Building english tree...\n",
      "Saving english tree\n",
      "Done!\n",
      "Getting synsetIds for disgust\n",
      "Building sense trees...\n",
      "Building english tree...\n",
      "Saving english tree\n",
      "Done!\n",
      "Getting synsetIds for anger\n",
      "Building sense trees...\n",
      "Building english tree...\n",
      "Saving english tree\n",
      "Done!\n",
      "Getting synsetIds for fear\n",
      "Building sense trees...\n",
      "Building english tree...\n",
      "Saving english tree\n",
      "Done!\n"
     ]
    }
   ],
   "source": [
    "#MODEL_PATH = '/home/models/babelnet/'\n",
    "MODEL_PATH = 'C:/Users/hp/Anaconda3/envs/minor/project1/Lib/site-packages/babelnet/'\n",
    "#MODEL_PATH = '/babelnet/'\n",
    "trees_en = {}\n",
    "trees_pl = {}\n",
    "tree_depth = 3\n",
    "\n",
    "for emotion in emotions:\n",
    "    print 'Getting synsetIds for ' + emotion\n",
    "    id = utils.getSynsetIds(emotion, 'EN', key)[0]\n",
    "    \n",
    "    print 'Building sense trees...'\n",
    "    sense = Sense(id, emotion)   \n",
    "    \n",
    "    print 'Building english tree...'\n",
    "    trees_en[emotion] = buildSenseTree(Tree(sense), 'EN', key, 3)\n",
    "    \n",
    "    print 'Saving english tree'\n",
    "    filename = MODEL_PATH + emotion #+ '.pkl'\n",
    "    fileobject = open(filename , 'wb')\n",
    "    pickle.dump(trees_en[emotion] , fileobject)\n",
    "    fileobject.close()\n",
    "    \n",
    "    \n",
    "    #save(trees_en[emotion], MODEL_PATH + \"en/\" + emotion + '.pkl')\n",
    "    \n",
    "    #print 'Building polish tree..'\n",
    "    #trees_pl[emotion] = buildSenseTree(Tree(sense), 'PL', key, 3)\n",
    "    \n",
    "    #print 'Saving polish tree'\n",
    "    #save(trees_pl[emotion], MODEL_PATH + \"pl/\" + emotion + '.pkl')\n",
    "    #filename = MODEL_PATH + \"pl/\" + emotion #+ '.pkl'\n",
    "    #fileobject = open(filename , 'wb')\n",
    "    #pickle.dump(trees_en[emotion] , fileobject)\n",
    "    #fileobject.close()\n",
    "    \n",
    "    print 'Done!'"
   ]
  },
  {
   "cell_type": "code",
   "execution_count": 25,
   "metadata": {},
   "outputs": [
    {
     "name": "stdout",
     "output_type": "stream",
     "text": [
      "bn:00027570n disgust 1 1\n",
      "\tbn:00057035n nausea 0.51613 0.17801\n",
      "\tbn:00000298n abhorrence 0.46575 0.16063\n",
      "\tbn:00044817n repugnance 0.42308 0.14591\n",
      "\n"
     ]
    }
   ],
   "source": [
    "print trees_en['disgust']"
   ]
  },
  {
   "cell_type": "code",
   "execution_count": 27,
   "metadata": {},
   "outputs": [],
   "source": [
    "#print trees_pl['disgust']"
   ]
  },
  {
   "cell_type": "code",
   "execution_count": null,
   "metadata": {
    "collapsed": true
   },
   "outputs": [],
   "source": []
  }
 ],
 "metadata": {
  "kernelspec": {
   "display_name": "project1",
   "language": "python",
   "name": "project1"
  },
  "language_info": {
   "codemirror_mode": {
    "name": "ipython",
    "version": 2
   },
   "file_extension": ".py",
   "mimetype": "text/x-python",
   "name": "python",
   "nbconvert_exporter": "python",
   "pygments_lexer": "ipython2",
   "version": "2.7.15"
  }
 },
 "nbformat": 4,
 "nbformat_minor": 1
}
